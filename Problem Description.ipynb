{
    "cells": [
        {
            "cell_type": "markdown",
            "metadata": {
                "collapsed": true
            },
            "source": "<h1>The Battle of Neighborhoods | Business Proposal | Introduction</h1>\n<h2>Introduction:</h2>"
        },
        {
            "cell_type": "markdown",
            "metadata": {},
            "source": "<p>The purpose of this Project is to help people in exploring better facilities around their neighborhood. It will help people making smart and efficient decision on selecting great neighborhood out of numbers of other neighborhoods in Scarborough, Toranto.\n\nLots of people are migrating to various states of Canada and needed lots of research for good housing prices and reputated schools for their children. This project is for those people who are looking for better neighborhoods. For ease of accessing to Cafe, School, Super market, medical shops, grocery shops, mall, theatre, hospital, like minded people, etc.\n\nThis Project aim to create an analysis of features for a people migrating to Scarborough to search a best neighborhood as a comparative analysis between neighborhoods. The features include median housing price and better school according to ratings, crime rates of that particular area, road connectivity, weather conditions, good management for emergency, water resources both freash and waste water and excrement conveyed in sewers and recreational facilities.\n\nIt will help people to get awareness of the area and neighborhood before moving to a new city, state, country or place for their work or to start a new fresh life.</p>"
        },
        {
            "cell_type": "markdown",
            "metadata": {},
            "source": "<h2>Problem Which We Tried to Solve:</h2>\n<p>The major purpose of this project, is to suggest a better neighborhood in a new city for the person who are shiffting there. Social presence in society in terms of like minded people. Connectivity to the airport, bus stand, city center, markets and other daily needs things nearby.\n\n<b><li>Sorted list of house in terms of housing prices in a ascending or descending order\n                                                                                     <li>Sorted list of schools in terms of location, fees, rating and reviews</li></b></p>\n<h2>The Location:</h2>\nScarborough is a popular destination for new immigrants in Canada to reside. As a result, it is one of the most diverse and multicultural areas in the Greater Toronto Area, being home to various religious groups and places of worship. Although immigration has become a hot topic over the past few years with more governments seeking more restrictions on immigrants and refugees, the general trend of immigration into Canada has been one of on the rise.\n\n<h2>Foursquare API:</h2>\nThis project would use Four-square API as its prime data gathering source as it has a database of millions of places, especially their places API which provides the ability to perform location search, location sharing and details about a business.\n\n<h2>Foursquare City Guide: </h2>\nFoursquare City Guide, commonly known as Foursquare, is a local search-and-discovery mobile app developed by Foursquare Labs Inc. The app provides personalized recommendations of places to go near a user's current location based on users' previous browsing history and check-in history.\n\nThe service was created in late 2008 by Dennis Crowley and Naveen Selvadurai and launched in 2009. Crowley had previously founded the similar project Dodgeball as his graduate thesis project in the Interactive Telecommunications Program (ITP) at New York University. Google bought Dodgeball in 2005 and shut it down in 2009, replacing it with Google Latitude. Dodgeball user interactions were based on SMS technology, rather than an application. Foursquare was similar but allowed for more features, allowing mobile device users to interact with their environment. Foursquare took advantage of new smartphones like the iPhone, which had built-in GPS to better detect a user's location.\n\nUntil late July 2014, Foursquare featured a social networking layer that enabled a user to share their location with friends, via the \"check in\" - a user would manually tell the application when they were at a particular location using a mobile website, text messaging, or a device-specific application by selecting from a list of venues the application locates nearby. In May 2014, the company launched Swarm, a companion app to Foursquare City Guide, that reimagined the social networking and location sharing aspects of the service as a separate application. On August 7, 2014, the company launched Foursquare 8.0, a new version of the service. This version removed the check-in feature and location sharing, instead focusing on local search.\n\nIn 2011, user demographics showed a roughly equal split between male and female user accounts, with 50 percent of users registered outside of the USA. In 2016, Foursquare had 50 million monthly active users.\n\n<h2>Work Flow:</h2>\nUsing credentials of Foursquare API features of near-by places of the neighborhoods would be mined. Due to http request limitations the number of places per neighborhood parameter would reasonably be set to 100 and the radius parameter would be set to 500.\n\n<h2>Clustering Approach:</h2>\nTo compare the similarities of two cities, we decided to explore neighborhoods, segment them, and group them into clusters to find similar neighborhoods in a big city like New York and Toronto. To be able to do that, we need to cluster data which is a form of unsupervised machine learning: k-means clustering algorithm\n\n<h2>k-means clustering Algorithm:</h2>\nk-means clustering is a method of vector quantization, originally from signal processing, that aims to partition n observations into k clusters in which each observation belongs to the cluster with the nearest mean (cluster centers or cluster centroid), serving as a prototype of the cluster. This results in a partitioning of the data space into Voronoi cells. k-means clustering minimizes within-cluster variances (squared Euclidean distances), but not regular Euclidean distances, which would be the more difficult Weber problem: the mean optimizes squared errors, whereas only the geometric median minimizes Euclidean distances. For instance, better Euclidean solutions can be found using k-medians and k-medoids.\n\nThe problem is computationally difficult (NP-hard); however, efficient heuristic algorithms converge quickly to a local optimum. These are usually similar to the expectation-maximization algorithm for mixtures of Gaussian distributions via an iterative refinement approach employed by both k-means and Gaussian mixture modeling. They both use cluster centers to model the data; however, k-means clustering tends to find clusters of comparable spatial extent, while the Gaussian mixture model allows clusters to have different shapes.\n\nThe unsupervised k-means algorithm has a loose relationship to the k-nearest neighbor classifier, a popular supervised machine learning technique for classification that is often confused with k-means due to the name. Applying the 1-nearest neighbor classifier to the cluster centers obtained by k-means classifies new data into the existing clusters. This is known as nearest centroid classifier or Rocchio algorithm.\n\n<h2>Libraries Which are Used to Develop the Project:</h2>\n\nPandas: For creating and manipulating dataframes.\n\nFolium: Python visualization library would be used to visualize the neighborhoods cluster distribution of using interactive leaflet map.\n\nScikit Learn: For importing k-means clustering.\n\nJSON: Library to handle JSON files.\n\nXML: To separate data from presentation and XML stores data in plain text format.\n\nGeocoder: To retrieve Location Data.\n\nBeautiful Soup and Requests: To scrap and library to handle http requests.\n\nMatplotlib: Python Plotting Module."
        },
        {
            "cell_type": "code",
            "execution_count": null,
            "metadata": {},
            "outputs": [],
            "source": ""
        }
    ],
    "metadata": {
        "kernelspec": {
            "display_name": "Python 3.7",
            "language": "python",
            "name": "python3"
        },
        "language_info": {
            "codemirror_mode": {
                "name": "ipython",
                "version": 3
            },
            "file_extension": ".py",
            "mimetype": "text/x-python",
            "name": "python",
            "nbconvert_exporter": "python",
            "pygments_lexer": "ipython3",
            "version": "3.7.10"
        }
    },
    "nbformat": 4,
    "nbformat_minor": 1
}